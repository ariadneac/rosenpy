{
 "cells": [
  {
   "cell_type": "code",
   "execution_count": null,
   "id": "86cc9ddd",
   "metadata": {},
   "outputs": [],
   "source": [
    "import numpy as np\n",
    "import matplotlib.pyplot as plt\n",
    "from matplotlib import cm\n",
    "from matplotlib.colors import ListedColormap, LinearSegmentedColormap\n",
    "from rp_utils import costFunc, actFunc, initFunc, regFunc, decayFunc, batchGenFunc, utils\n",
    "import rosenpymodel.cvffnn as mynn1\n",
    "import rosenpymodel.scffnn as mynn2\n",
    "import rosenpymodel.cvrbfnn as mynn3\n",
    "import rosenpymodel.fcrbfnn as mynn4\n",
    "import rosenpymodel.deepptrbfnn as mynn5\n",
    "import numpy as np\n",
    "from sklearn.datasets import load_iris\n",
    "from matplotlib import cm\n",
    "from matplotlib.colors import ListedColormap"
   ]
  },
  {
   "cell_type": "code",
   "execution_count": null,
   "id": "59b91535",
   "metadata": {},
   "outputs": [],
   "source": [
    "x, y = make_spiral(n_samples=100, n_class=2, radius=5, laps=1.75)\n",
    "\n",
    "z = np.array([x[:,0] + x[:,1]*1j], ndmin=1).T\n",
    "\n",
    "y = y.astype(int)\n",
    "\n",
    "plt.scatter(z.real, z.imag, c=list(np.array(y).ravel()), s=15, cmap=dsa())\n",
    "\n",
    "y1 = initFunc.zeros(100, 1)\n",
    "y2 = initFunc.ones(100, 1)\n",
    "yz = np.concatenate((y1,y2))\n"
   ]
  },
  {
   "cell_type": "markdown",
   "id": "6f9a30bd",
   "metadata": {},
   "source": [
    "# CVFFNN"
   ]
  },
  {
   "cell_type": "code",
   "execution_count": null,
   "id": "cb709222",
   "metadata": {},
   "outputs": [],
   "source": [
    "##CVFFNN\n",
    "\n",
    "nn1 = mynn1.CVFFNN(cost_func=costFunc.mse,  learning_rate = 1e-3)\n",
    "nn1.addLayer(ishape=z.shape[1], neurons=40, activation=actFunc.atan, bias_initializer=initFunc.zeros)\n",
    "nn1.addLayer(neurons=20, activation=actFunc.atanh)\n",
    "nn1.addLayer(neurons=y.shape[1], activation=actFunc.atan, bias_initializer=initFunc.zeros)\n",
    "\n",
    "hist1 = nn1.fit(z, y, epochs=5000, verbose=100)\n",
    "\n",
    "y_pred1 = nn1.predict(z)\n",
    "\n",
    "\n",
    "arr = y_pred1.view(float)\n",
    "m = arr % 1. <= .5\n",
    "arr[m] = np.floor(arr[m])\n",
    "arr[~m] = np.ceil(arr[~m])\n",
    "arr1 = arr.view(complex)\n",
    "\n",
    "print('Accuracy CVFFNN: {:.2f}%'.format(utils.accuracy(y, y_pred1)))\n"
   ]
  },
  {
   "cell_type": "code",
   "execution_count": null,
   "id": "d982bc90",
   "metadata": {},
   "outputs": [],
   "source": []
  },
  {
   "cell_type": "markdown",
   "id": "5f414091",
   "metadata": {},
   "source": [
    "# SCFFNN"
   ]
  },
  {
   "cell_type": "code",
   "execution_count": null,
   "id": "a54e981e",
   "metadata": {},
   "outputs": [],
   "source": [
    "##SCFFNN\n",
    "nn2 = mynn2.SCFFNN(cost_func=costFunc.mse,  learning_rate = 1e-3)\n",
    "nn2.addLayer(ishape=z.shape[1], neurons=100, activation=actFunc.tanh, bias_initializer=initFunc.zeros)\n",
    "nn2.addLayer(neurons=50, activation=actFunc.tanh)\n",
    "nn2.addLayer(neurons=y.shape[1], activation=actFunc.tanh, bias_initializer=initFunc.zeros)\n",
    "\n",
    "hist2 = nn2.fit(z, y, epochs=5000, verbose=100)\n",
    "\n",
    "y_pred2 = nn2.predict(z)\n",
    "\n",
    "arr = y_pred2.view(float)\n",
    "m = arr % 1. <= .5\n",
    "arr[m] = np.floor(arr[m])\n",
    "arr[~m] = np.ceil(arr[~m])\n",
    "arr2 = arr.view(complex)\n",
    "\n",
    "print('Accuracy SCFFNN: {:.2f}%'.format(utils.accuracy(y, y_pred2)))\n"
   ]
  },
  {
   "cell_type": "code",
   "execution_count": null,
   "id": "7708d336",
   "metadata": {},
   "outputs": [],
   "source": []
  },
  {
   "cell_type": "markdown",
   "id": "84d517c3",
   "metadata": {},
   "source": [
    "# CVRBFNN"
   ]
  },
  {
   "cell_type": "code",
   "execution_count": null,
   "id": "2198191d",
   "metadata": {},
   "outputs": [],
   "source": [
    "nn3 = mynn3.CVRBFNN(learning_rate=1e-2)\n",
    "nn3.addLayer(ishape=z.shape[1], neurons=60, oshape=yz.shape[1], \n",
    "            gamma_rate=0.1, sigma_rate=0.1)\n",
    "\n",
    "hist3 = nn3.fit(z, yz, epochs=5000, verbose=100)\n",
    "\n",
    "y_pred3 = nn3.predict(z)\n",
    "\n",
    "arr = y_pred3.view(float)\n",
    "m = arr % 1. <= .5\n",
    "arr[m] = np.floor(arr[m])\n",
    "arr[~m] = np.ceil(arr[~m])\n",
    "arr3 = arr.view(complex)"
   ]
  },
  {
   "cell_type": "code",
   "execution_count": null,
   "id": "767aae64",
   "metadata": {},
   "outputs": [],
   "source": [
    "print('Accuracy CVRBFNN: {:.2f}%'.format(utils.accuracy(yz, y_pred3)))\n"
   ]
  },
  {
   "cell_type": "code",
   "execution_count": null,
   "id": "08c7db39",
   "metadata": {},
   "outputs": [],
   "source": []
  },
  {
   "cell_type": "markdown",
   "id": "af0b74a3",
   "metadata": {},
   "source": [
    "# FCFFNN"
   ]
  },
  {
   "cell_type": "code",
   "execution_count": null,
   "id": "9af98ee2",
   "metadata": {},
   "outputs": [],
   "source": [
    "##FCFFNN\n",
    "\n",
    "nn4 = mynn4.FCRBFNN(learning_rate=1e-3)\n",
    "nn4.addLayer(ishape=z.shape[1], neurons=20, oshape=y.shape[1], \n",
    "               gamma_rate=0.001, sigma_rate=0.001)\n",
    "\n",
    "hist4 = nn4.fit(z, y, epochs=5000, verbose=100)\n",
    "\n",
    "\n",
    "y_pred4 = nn4.predict(z)\n",
    "\n",
    "arr = y_pred4.view(float)\n",
    "m = arr % 1. <= .5\n",
    "arr[m] = np.floor(arr[m])\n",
    "arr[~m] = np.ceil(arr[~m])\n",
    "arr4 = arr.view(complex)\n",
    "\n",
    "\n",
    "print('Accuracy CVRBFNN: {:.2f}%'.format(utils.accuracy(y, y_pred4)))"
   ]
  },
  {
   "cell_type": "code",
   "execution_count": null,
   "id": "2bba2c7d",
   "metadata": {},
   "outputs": [],
   "source": []
  },
  {
   "cell_type": "markdown",
   "id": "a1cd386d",
   "metadata": {},
   "source": [
    "# DeepPTRBFNN"
   ]
  },
  {
   "cell_type": "code",
   "execution_count": null,
   "id": "81487e77",
   "metadata": {},
   "outputs": [],
   "source": [
    "##DeepPTRBFNN\n",
    "\n",
    "nn5 = mynn5.DeepPTRBFNN(learning_rate=1e-3, momentum=0.1)\n",
    "nn5.addLayer(ishape=z.shape[1], neurons=20, gamma_rate=1e-3, sigma_rate=1e-2)\n",
    "nn5.addLayer(neurons=20, oshape=y.shape[1], gamma_rate=1e-2, sigma_rate=1e-2)\n",
    "\n",
    "hist5 = nn5.fit(z, y, epochs=5000, verbose=100)\n",
    "\n",
    "y_pred5 = nn5.predict(z)\n",
    "\n",
    "arr = y_pred5.view(float)\n",
    "m = arr % 1. <= .5\n",
    "arr[m] = np.floor(arr[m])\n",
    "arr[~m] = np.ceil(arr[~m])\n",
    "arr5 = arr.view(complex)\n",
    "\n",
    "print('Accuracy DeepPTRBFNN: {:.2f}%'.format(utils.accuracy(y, y_pred5)))"
   ]
  },
  {
   "cell_type": "code",
   "execution_count": null,
   "id": "4d3cb8f7",
   "metadata": {},
   "outputs": [],
   "source": []
  },
  {
   "cell_type": "markdown",
   "id": "1295495b",
   "metadata": {},
   "source": [
    "# Real"
   ]
  },
  {
   "cell_type": "code",
   "execution_count": null,
   "id": "a00145b1",
   "metadata": {},
   "outputs": [],
   "source": [
    "import tensorflow as tf\n",
    "model = tf.keras.models.Sequential()\n",
    "model.add(tf.keras.layers.Dense(50,\n",
    "                                activation=tf.nn.relu,\n",
    "                                input_shape=(x.shape[1],)))\n",
    "model.add(tf.keras.layers.Dense(50, activation=tf.nn.relu))\n",
    "model.add(tf.keras.layers.Dense(50, activation=tf.nn.relu))\n",
    "model.add(tf.keras.layers.Dense(1, activation=tf.nn.sigmoid))\n",
    "model.summary()\n",
    "model.compile(optimizer='SGD',\n",
    "              loss='binary_crossentropy',\n",
    "              metrics=['accuracy'])\n",
    "hist = model.fit(x,\n",
    "                 y,\n",
    "                 epochs=5001,\n",
    "                 verbose=0)"
   ]
  },
  {
   "cell_type": "code",
   "execution_count": null,
   "id": "3719b1e7",
   "metadata": {},
   "outputs": [],
   "source": []
  },
  {
   "cell_type": "code",
   "execution_count": null,
   "id": "5bfd1b1d",
   "metadata": {},
   "outputs": [],
   "source": []
  },
  {
   "cell_type": "code",
   "execution_count": null,
   "id": "588fc0a0",
   "metadata": {},
   "outputs": [],
   "source": [
    "x=np.arange(0, 5001, 100)\n",
    "\n",
    "plt.figure(dpi=100)\n",
    "plt.rcParams['savefig.dpi'] = 150\n",
    "plt.plot( hist1['epochs'][0::2], hist1['loss'][0::2], 'go-', label='CV-FFNN') # green \n",
    "plt.plot( hist2['epochs'][0::2], hist2['loss'][0::2], 'yo-', label='SC-FFNN')  # yellow \n",
    "plt.plot( hist3['epochs'][0::2], hist3['loss'][0::2], 'bo-', label='CV-RBFNN') # blue \n",
    "plt.plot( hist4['epochs'][0::2], hist4['loss'][0::2], 'mo-', label='FC-RBFNN') # magenta \n",
    "plt.plot( hist5['epochs'][0::2], hist5['loss'][0::2], 'co-', label='Deep PT-RBFNN') # cyan \n",
    "plt.plot( hist.epoch[0::200], hist.history['loss'][0::200], 'ro-', label='RVNN') # red \n",
    "\n",
    "plt.legend()\n",
    "plt.grid(True)\n",
    "plt.xlabel(\"epochs\")\n",
    "plt.ylabel(\"training loss\")\n",
    "plt.show()"
   ]
  },
  {
   "cell_type": "code",
   "execution_count": null,
   "id": "08658c8c",
   "metadata": {},
   "outputs": [],
   "source": []
  },
  {
   "cell_type": "code",
   "execution_count": null,
   "id": "c4f8eb47",
   "metadata": {},
   "outputs": [],
   "source": []
  },
  {
   "cell_type": "code",
   "execution_count": null,
   "id": "4640e6ad",
   "metadata": {},
   "outputs": [],
   "source": []
  },
  {
   "cell_type": "code",
   "execution_count": null,
   "id": "f546e30a",
   "metadata": {},
   "outputs": [],
   "source": []
  }
 ],
 "metadata": {
  "kernelspec": {
   "display_name": "Python 3",
   "language": "python",
   "name": "python3"
  },
  "language_info": {
   "codemirror_mode": {
    "name": "ipython",
    "version": 3
   },
   "file_extension": ".py",
   "mimetype": "text/x-python",
   "name": "python",
   "nbconvert_exporter": "python",
   "pygments_lexer": "ipython3",
   "version": "3.9.5"
  }
 },
 "nbformat": 4,
 "nbformat_minor": 5
}
