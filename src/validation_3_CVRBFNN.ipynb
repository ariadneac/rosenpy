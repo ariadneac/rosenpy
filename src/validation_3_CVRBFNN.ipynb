{
 "cells": [
  {
   "cell_type": "code",
   "execution_count": 1,
   "id": "4ec50711",
   "metadata": {},
   "outputs": [],
   "source": [
    "from rp_utils import costFunc, actFunc, initFunc, regFunc, decayFunc, batchGenFunc, utils\n",
    "import rosenpymodel.cvrbfnn as mynn\n",
    "import numpy as np\n",
    "\n",
    "import matplotlib.pyplot as plt\n",
    "from sklearn.datasets import load_iris\n",
    "from sklearn.metrics import accuracy_score"
   ]
  },
  {
   "cell_type": "markdown",
   "id": "7a135bcc",
   "metadata": {},
   "source": [
    "## Porta XOR Complexa"
   ]
  },
  {
   "cell_type": "code",
   "execution_count": 2,
   "id": "044e33e6",
   "metadata": {},
   "outputs": [
    {
     "name": "stdout",
     "output_type": "stream",
     "text": [
      "epoch:    0/1000 loss_train: 0.78528790 loss_val: 0.78528790\n",
      "epoch:  100/1000 loss_train: 0.11340326 loss_val: 0.11340326\n",
      "epoch:  200/1000 loss_train: 0.10350014 loss_val: 0.10350014\n",
      "epoch:  300/1000 loss_train: 0.09777407 loss_val: 0.09777407\n",
      "epoch:  400/1000 loss_train: 0.08983625 loss_val: 0.08983625\n",
      "epoch:  500/1000 loss_train: 0.07859015 loss_val: 0.07859015\n",
      "epoch:  600/1000 loss_train: 0.06250747 loss_val: 0.06250747\n",
      "epoch:  700/1000 loss_train: 0.04129598 loss_val: 0.04129598\n",
      "epoch:  800/1000 loss_train: 0.02062371 loss_val: 0.02062371\n",
      "epoch:  900/1000 loss_train: 0.00805561 loss_val: 0.00805561\n",
      "epoch: 1000/1000 loss_train: 0.00276455 loss_val: 0.00276455\n",
      "[[ 1.00678265-0.04827773j]\n",
      " [-0.01866277+0.07440157j]\n",
      " [ 0.9903867 +1.02536231j]\n",
      " [ 0.0175814 +0.95813338j]]\n",
      "[[1.+0.j]\n",
      " [0.+0.j]\n",
      " [1.+1.j]\n",
      " [0.+1.j]]\n"
     ]
    }
   ],
   "source": [
    "x = np.array([[-1.0-1.0j], [-1.0+1.0j], [1.0-1.0j], [1.0+1.0j]])\n",
    "y = np.array([1, 0, 1+1.0j, 1.0j]).reshape(-1, 1)\n",
    "\n",
    "\n",
    "nn = mynn.CVRBFNN(learning_rate=1e-1)\n",
    "nn.addLayer(ishape=x.shape[1], neurons=4, oshape=y.shape[1], \n",
    "            weights_initializer=initFunc.random_normal,\n",
    "            bias_initializer=initFunc.ones, \n",
    "            gamma_rate=0.01, sigma_rate=0.01)\n",
    "\n",
    "nn.fit(x, y, epochs=1000, verbose=100)\n",
    "\n",
    "y_pred = nn.predict(x)\n",
    "y = np.array(y, ndmin=2)\n",
    "print(y_pred)\n",
    "print(y)"
   ]
  },
  {
   "cell_type": "code",
   "execution_count": 3,
   "id": "c58f152b",
   "metadata": {},
   "outputs": [
    {
     "name": "stdout",
     "output_type": "stream",
     "text": [
      "Accuracy: 95.05%\n"
     ]
    }
   ],
   "source": [
    "print('Accuracy: {:.2f}%'.format(utils.accuracy(y, y_pred)))"
   ]
  },
  {
   "cell_type": "markdown",
   "id": "01432083",
   "metadata": {},
   "source": [
    "## Dataset Iris"
   ]
  },
  {
   "cell_type": "code",
   "execution_count": 4,
   "id": "2c790027",
   "metadata": {},
   "outputs": [
    {
     "name": "stdout",
     "output_type": "stream",
     "text": [
      "['sepal length (cm)', 'sepal width (cm)', 'petal length (cm)', 'petal width (cm)']\n",
      "['setosa' 'versicolor' 'virginica']\n",
      "(150, 2) (150, 1)\n"
     ]
    },
    {
     "data": {
      "text/plain": [
       "<matplotlib.collections.PathCollection at 0x23fbb3621c0>"
      ]
     },
     "execution_count": 4,
     "metadata": {},
     "output_type": "execute_result"
    },
    {
     "data": {
      "image/png": "[encoded data removed]",
      "text/plain": [
       "<Figure size 432x288 with 1 Axes>"
      ]
     },
     "metadata": {
      "needs_background": "light"
     },
     "output_type": "display_data"
    }
   ],
   "source": [
    "data = load_iris()\n",
    "x, y = data.data[:, 2:], data.target.reshape(-1,1)\n",
    "\n",
    "print(data.feature_names)\n",
    "print(data.target_names)\n",
    "print(x.shape, y.shape)\n",
    "plt.scatter(x[:,0], x[:,1], c=list(np.array(y).ravel()), s=15, cmap=plt.cm.viridis)\n",
    "\n"
   ]
  },
  {
   "cell_type": "code",
   "execution_count": 5,
   "id": "75f2509a",
   "metadata": {},
   "outputs": [
    {
     "name": "stdout",
     "output_type": "stream",
     "text": [
      "epoch:    0/3000 loss_train: 0.75382508 loss_val: 0.75382508\n",
      "epoch:  100/3000 loss_train: 0.08528106 loss_val: 0.08528106\n",
      "epoch:  200/3000 loss_train: 0.06806094 loss_val: 0.06806094\n",
      "epoch:  300/3000 loss_train: 0.06028999 loss_val: 0.06028999\n",
      "epoch:  400/3000 loss_train: 0.05550731 loss_val: 0.05550731\n",
      "epoch:  500/3000 loss_train: 0.05186160 loss_val: 0.05186160\n",
      "epoch:  600/3000 loss_train: 0.04875860 loss_val: 0.04875860\n",
      "epoch:  700/3000 loss_train: 0.04623697 loss_val: 0.04623697\n",
      "epoch:  800/3000 loss_train: 0.04440451 loss_val: 0.04440451\n",
      "epoch:  900/3000 loss_train: 0.04320602 loss_val: 0.04320602\n",
      "epoch: 1000/3000 loss_train: 0.04247372 loss_val: 0.04247372\n",
      "epoch: 1100/3000 loss_train: 0.04202753 loss_val: 0.04202753\n",
      "epoch: 1200/3000 loss_train: 0.04173376 loss_val: 0.04173376\n",
      "epoch: 1300/3000 loss_train: 0.04151440 loss_val: 0.04151440\n",
      "epoch: 1400/3000 loss_train: 0.04133106 loss_val: 0.04133106\n",
      "epoch: 1500/3000 loss_train: 0.04116679 loss_val: 0.04116679\n",
      "epoch: 1600/3000 loss_train: 0.04101430 loss_val: 0.04101430\n",
      "epoch: 1700/3000 loss_train: 0.04087016 loss_val: 0.04087016\n",
      "epoch: 1800/3000 loss_train: 0.04073228 loss_val: 0.04073228\n",
      "epoch: 1900/3000 loss_train: 0.04059903 loss_val: 0.04059903\n",
      "epoch: 2000/3000 loss_train: 0.04046901 loss_val: 0.04046901\n",
      "epoch: 2100/3000 loss_train: 0.04034090 loss_val: 0.04034090\n",
      "epoch: 2200/3000 loss_train: 0.04021353 loss_val: 0.04021353\n",
      "epoch: 2300/3000 loss_train: 0.04008579 loss_val: 0.04008579\n",
      "epoch: 2400/3000 loss_train: 0.03995667 loss_val: 0.03995667\n",
      "epoch: 2500/3000 loss_train: 0.03982520 loss_val: 0.03982520\n",
      "epoch: 2600/3000 loss_train: 0.03969046 loss_val: 0.03969046\n",
      "epoch: 2700/3000 loss_train: 0.03955156 loss_val: 0.03955156\n",
      "epoch: 2800/3000 loss_train: 0.03940758 loss_val: 0.03940758\n",
      "epoch: 2900/3000 loss_train: 0.03925757 loss_val: 0.03925757\n",
      "epoch: 3000/3000 loss_train: 0.03910056 loss_val: 0.03910056\n"
     ]
    }
   ],
   "source": [
    "input_dim, output_dim = x.shape[1], y.shape[1]\n",
    "\n",
    "nn = mynn.CVRBFNN(learning_rate=1e-2)\n",
    "nn.addLayer(ishape=input_dim, neurons=6, oshape=output_dim, \n",
    "            weights_initializer=initFunc.random_normal,\n",
    "            bias_initializer=initFunc.ones, \n",
    "            gamma_rate=0.01, sigma_rate=0.01)\n",
    "\n",
    "nn.fit(x, y, epochs=3000, verbose=100)\n",
    "y_pred = nn.predict(x)\n",
    "y = np.array(y, ndmin=2)"
   ]
  },
  {
   "cell_type": "code",
   "execution_count": 6,
   "id": "5a8c93e7",
   "metadata": {},
   "outputs": [
    {
     "name": "stdout",
     "output_type": "stream",
     "text": [
      "Accuracy: 96.00%\n"
     ]
    }
   ],
   "source": [
    "arr = y_pred.view(float)\n",
    "m = arr % 1. <= .5\n",
    "arr[m] = np.floor(arr[m])\n",
    "arr[~m] = np.ceil(arr[~m])\n",
    "arr = arr.view(complex)\n",
    "print('Accuracy: {:.2f}%'.format(utils.accuracy(y,arr)))"
   ]
  },
  {
   "cell_type": "markdown",
   "id": "e271281b",
   "metadata": {},
   "source": [
    "## CFAP-I: Synthetic Complex-valued Function Approximation Problem I"
   ]
  },
  {
   "cell_type": "code",
   "execution_count": 7,
   "id": "02b72e50",
   "metadata": {},
   "outputs": [],
   "source": [
    "xt1 =  np.array([  (np.random.randint(-2, 2, 1000) + 1j*np.random.randint(-2, 2, 1000))*0.7])\n",
    "xt2 = np.array([ (np.random.randint(-2, 2, 1000) + 1j*np.random.randint(-2, 2, 1000))*0.7])\n",
    "\n",
    "x = np.append(xt1, xt2, axis = 0).T\n",
    "\n",
    "y = np.array(1/6*(xt1**2 + xt2**2), ndmin=2, dtype='complex128').T\n",
    "\n",
    "xt1 =  np.array([  (np.random.randint(-2, 2, 200) + 1j*np.random.randint(-2, 2, 200))*0.7])\n",
    "xt2 = np.array([ (np.random.randint(-2, 2, 200) + 1j*np.random.randint(-2, 2, 200))*0.7])\n",
    "\n",
    "x_test = np.append(xt1, xt2, axis = 0).T\n",
    "\n",
    "y_test = np.array(1/6*(xt1**2 + xt2**2), ndmin=2, dtype='complex128').T"
   ]
  },
  {
   "cell_type": "code",
   "execution_count": 8,
   "id": "333cbcac",
   "metadata": {},
   "outputs": [
    {
     "name": "stdout",
     "output_type": "stream",
     "text": [
      "epoch:    0/1000 loss_train: 0.15652485 loss_val: 0.15652485\n",
      "epoch:  100/1000 loss_train: 0.04920832 loss_val: 0.04920832\n",
      "epoch:  200/1000 loss_train: 0.02934169 loss_val: 0.02934169\n",
      "epoch:  300/1000 loss_train: 0.01949741 loss_val: 0.01949741\n",
      "epoch:  400/1000 loss_train: 0.01479471 loss_val: 0.01479471\n",
      "epoch:  500/1000 loss_train: 0.01186509 loss_val: 0.01186509\n",
      "epoch:  600/1000 loss_train: 0.00967516 loss_val: 0.00967516\n",
      "epoch:  700/1000 loss_train: 0.00806157 loss_val: 0.00806157\n",
      "epoch:  800/1000 loss_train: 0.00686537 loss_val: 0.00686537\n",
      "epoch:  900/1000 loss_train: 0.00594061 loss_val: 0.00594061\n",
      "epoch: 1000/1000 loss_train: 0.00520721 loss_val: 0.00520721\n"
     ]
    }
   ],
   "source": [
    "input_dim, output_dim = x.shape[1], y.shape[1]\n",
    "\n",
    "nn = mynn.CVRBFNN(learning_rate=1e-2)\n",
    "nn.addLayer(ishape=input_dim, neurons=25, oshape=output_dim, \n",
    "            weights_initializer=initFunc.random_normal,\n",
    "            bias_initializer=initFunc.ones, \n",
    "            gamma_rate=0.01, sigma_rate=0.01)\n",
    "\n",
    "nn.fit(x, y, epochs=1000, verbose=100)\n",
    "\n",
    "y_pred = nn.predict(x)\n",
    "\n",
    "\n",
    "y_predTest = nn.predict(x_test)"
   ]
  },
  {
   "cell_type": "code",
   "execution_count": 9,
   "id": "560b8120",
   "metadata": {},
   "outputs": [
    {
     "name": "stdout",
     "output_type": "stream",
     "text": [
      "Accuracy: training 93.99%\n",
      "Accuracy: testing 93.53%\n"
     ]
    }
   ],
   "source": [
    "print('Accuracy: training {:.2f}%'.format(utils.accuracy(y, y_pred)))\n",
    "print('Accuracy: testing {:.2f}%'.format(utils.accuracy(y_test, nn.predict(x_test))))"
   ]
  },
  {
   "cell_type": "markdown",
   "id": "0056dfeb",
   "metadata": {},
   "source": [
    "## Cha and Kassam Channel Mode "
   ]
  },
  {
   "cell_type": "code",
   "execution_count": 10,
   "id": "f8fddc48",
   "metadata": {},
   "outputs": [],
   "source": [
    "trainSetIn = []\n",
    "trainSetOut = (np.random.randint(0,2, (1,1204))*2-1)*0.7 + 1j*(np.random.randint(0,2, (1,1204))*2-1)*0.7\n",
    "a1 = -0.7 - 1j*0.7;\n",
    "a2 = -0.7 + 1j*0.7;\n",
    "\n",
    "i=0\n",
    "while i<1204 :\n",
    "    a0 = trainSetOut[0][i]\n",
    "    \n",
    "    aux = (0.34-1j*0.27)*a0 + (0.87+1j*0.43)*a1 + (0.34-1j*0.21)*a2\n",
    "    trainSetIn.append(aux + 0.1*aux**2+ 0.05*aux**3+np.sqrt(0.01)*(np.random.randn()/np.sqrt(2)+(1j*np.random.randn())/np.sqrt(2)))\n",
    "    \n",
    "    a2=a1\n",
    "    a1=a0\n",
    "    i+=1\n",
    "\n",
    "    \n",
    "    \n",
    "    \n",
    "trainSetOut = trainSetOut.T\n",
    "trainSetOut = trainSetOut[:1204-2]\n",
    "\n",
    "x_test = np.array([trainSetIn[1000:1204-2], trainSetIn[1001:1204-1], trainSetIn[1002:1204]]).T\n",
    "y_test = trainSetOut[1000:1204-2]\n",
    "\n",
    "trainSetIn = np.array([trainSetIn[:1002-2], trainSetIn[1:1002-1], trainSetIn[2:1002]]).T\n",
    "trainSetOut = trainSetOut[:1002-2]"
   ]
  },
  {
   "cell_type": "code",
   "execution_count": 11,
   "id": "ae2fb6c6",
   "metadata": {},
   "outputs": [
    {
     "name": "stdout",
     "output_type": "stream",
     "text": [
      "epoch:    0/1000 loss_train: 0.25447571 loss_val: 0.25447571\n",
      "epoch:  100/1000 loss_train: 0.02559109 loss_val: 0.02559109\n",
      "epoch:  200/1000 loss_train: 0.02038207 loss_val: 0.02038207\n",
      "epoch:  300/1000 loss_train: 0.01827544 loss_val: 0.01827544\n",
      "epoch:  400/1000 loss_train: 0.02107206 loss_val: 0.02107206\n",
      "epoch:  500/1000 loss_train: 0.02077035 loss_val: 0.02077035\n",
      "epoch:  600/1000 loss_train: 0.01918199 loss_val: 0.01918199\n",
      "epoch:  700/1000 loss_train: 0.01848833 loss_val: 0.01848833\n",
      "epoch:  800/1000 loss_train: 0.01519143 loss_val: 0.01519143\n",
      "epoch:  900/1000 loss_train: 0.01446444 loss_val: 0.01446444\n",
      "epoch: 1000/1000 loss_train: 0.01876829 loss_val: 0.01876829\n"
     ]
    }
   ],
   "source": [
    "input_dim, output_dim = trainSetIn.shape[1], trainSetOut.shape[1]\n",
    "\n",
    "nn = mynn.CVRBFNN(learning_rate=1e-1, momentum=0.1)\n",
    "nn.addLayer(ishape=input_dim, neurons=50, oshape=output_dim, \n",
    "            weights_initializer=initFunc.random_normal,\n",
    "            bias_initializer=initFunc.ones, \n",
    "            gamma_rate=0.1, sigma_rate=0.1)\n",
    "nn.fit(trainSetIn, trainSetOut, epochs=1000, verbose=100)\n",
    "\n",
    "\n",
    "y_pred = nn.predict(trainSetIn)\n",
    "\n",
    "y_predTest = nn.predict(x_test)"
   ]
  },
  {
   "cell_type": "code",
   "execution_count": 12,
   "id": "8de54a2d",
   "metadata": {},
   "outputs": [
    {
     "name": "stdout",
     "output_type": "stream",
     "text": [
      "Accuracy: training 88.08%\n",
      "Accuracy: testing 86.66%\n"
     ]
    }
   ],
   "source": [
    "print('Accuracy: training {:.2f}%'.format(utils.accuracy(trainSetOut, y_pred)))\n",
    "print('Accuracy: testing {:.2f}%'.format(utils.accuracy(y_test, nn.predict(x_test))))"
   ]
  },
  {
   "cell_type": "markdown",
   "id": "608d4a84",
   "metadata": {},
   "source": [
    "## CFAP-II: Synthetic Complex-valued Function Approximation Problem II"
   ]
  },
  {
   "cell_type": "code",
   "execution_count": 13,
   "id": "9d16e24b",
   "metadata": {},
   "outputs": [],
   "source": [
    "x1 = np.cos(np.random.uniform(0,2*np.pi,3600)) + 1j*(np.random.uniform(0,2*np.pi,3600))\n",
    "x2 = np.cos(np.random.uniform(0,2*np.pi,3600)) + 1j*(np.random.uniform(0,2*np.pi,3600))\n",
    "x3 = np.cos(np.random.uniform(0,2*np.pi,3600)) + 1j*(np.random.uniform(0,2*np.pi,3600))\n",
    "x4 = np.cos(np.random.uniform(0,2*np.pi,3600)) + 1j*(np.random.uniform(0,2*np.pi,3600))\n",
    "\n",
    "x1 = x1/np.abs(x1)\n",
    "x2 = x2/np.abs(x2)\n",
    "x3 = x3/np.abs(x3)\n",
    "x4 = x4/np.abs(x4)\n",
    "\n",
    "\n",
    "x = np.array([x1,x2,x3,x4]).T\n",
    "\n",
    "y = np.array((1/1.5)*(x3 + 10*(x1*x4) + (x2**2)/x1), ndmin=2).T\n",
    "y = y/np.abs(y)\n",
    "\n",
    "x_test = x[3000:3600]\n",
    "y_test = y[3000:3600]\n",
    "\n",
    "x = x[:3000]\n",
    "y = y[:3000]\n"
   ]
  },
  {
   "cell_type": "code",
   "execution_count": 14,
   "id": "24fd6a39",
   "metadata": {},
   "outputs": [
    {
     "name": "stdout",
     "output_type": "stream",
     "text": [
      "epoch:    0/1000 loss_train: 0.28404241 loss_val: 0.28404241\n",
      "epoch:  100/1000 loss_train: 0.04698062 loss_val: 0.04698062\n",
      "epoch:  200/1000 loss_train: 0.02664830 loss_val: 0.02664830\n",
      "epoch:  300/1000 loss_train: 0.03895626 loss_val: 0.03895626\n",
      "epoch:  400/1000 loss_train: 0.02767581 loss_val: 0.02767581\n",
      "epoch:  500/1000 loss_train: 0.02578626 loss_val: 0.02578626\n",
      "epoch:  600/1000 loss_train: 0.02772821 loss_val: 0.02772821\n",
      "epoch:  700/1000 loss_train: 0.02811154 loss_val: 0.02811154\n",
      "epoch:  800/1000 loss_train: 0.02832357 loss_val: 0.02832357\n",
      "epoch:  900/1000 loss_train: 0.02691868 loss_val: 0.02691868\n",
      "epoch: 1000/1000 loss_train: 0.02231704 loss_val: 0.02231704\n"
     ]
    }
   ],
   "source": [
    "input_dim, output_dim = x.shape[1], y.shape[1]\n",
    "\n",
    "nn = mynn.CVRBFNN(learning_rate=1e-2)\n",
    "nn.addLayer(ishape=input_dim, neurons=15, oshape=output_dim, \n",
    "            gamma_rate=0.01, sigma_rate=0.01)\n",
    "\n",
    "nn.fit(x, y, epochs=1000, verbose=100)\n",
    "\n",
    "\n",
    "y_pred = nn.predict(x)\n",
    "\n",
    "y_predTest = nn.predict(x_test)"
   ]
  },
  {
   "cell_type": "code",
   "execution_count": 15,
   "id": "5d4ca457",
   "metadata": {},
   "outputs": [
    {
     "name": "stdout",
     "output_type": "stream",
     "text": [
      "Accuracy: training 89.90%\n",
      "Accuracy: testing 88.98%\n"
     ]
    }
   ],
   "source": [
    "print('Accuracy: training {:.2f}%'.format(utils.accuracy(y, y_pred)))\n",
    "print('Accuracy: testing {:.2f}%'.format(utils.accuracy(y_test, nn.predict(x_test))))"
   ]
  },
  {
   "cell_type": "code",
   "execution_count": null,
   "id": "6ac2472f",
   "metadata": {},
   "outputs": [],
   "source": []
  }
 ],
 "metadata": {
  "kernelspec": {
   "display_name": "Python 3",
   "language": "python",
   "name": "python3"
  },
  "language_info": {
   "codemirror_mode": {
    "name": "ipython",
    "version": 3
   },
   "file_extension": ".py",
   "mimetype": "text/x-python",
   "name": "python",
   "nbconvert_exporter": "python",
   "pygments_lexer": "ipython3",
   "version": "3.9.5"
  }
 },
 "nbformat": 4,
 "nbformat_minor": 5
}
