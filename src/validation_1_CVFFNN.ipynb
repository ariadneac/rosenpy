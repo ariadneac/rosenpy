{
 "cells": [
  {
   "cell_type": "code",
   "execution_count": 1,
   "id": "4ec50711",
   "metadata": {},
   "outputs": [],
   "source": [
    "from rp_utils import costFunc, actFunc, initFunc, regFunc, decayFunc, batchGenFunc, utils\n",
    "import rosenpymodel.cvffnn as mynn\n",
    "import numpy as np\n",
    "\n",
    "import matplotlib.pyplot as plt\n",
    "from sklearn.datasets import load_iris\n"
   ]
  },
  {
   "cell_type": "markdown",
   "id": "7a135bcc",
   "metadata": {},
   "source": [
    "## Porta XOR Complexa"
   ]
  },
  {
   "cell_type": "code",
   "execution_count": 2,
   "id": "044e33e6",
   "metadata": {},
   "outputs": [
    {
     "name": "stdout",
     "output_type": "stream",
     "text": [
      "epoch:    0/1000 loss_train: 0.58094859 loss_val: 0.58094859\n",
      "epoch:  100/1000 loss_train: 0.01764559 loss_val: 0.01764559\n",
      "epoch:  200/1000 loss_train: 0.00647262 loss_val: 0.00647262\n",
      "epoch:  300/1000 loss_train: 0.00394110 loss_val: 0.00394110\n",
      "epoch:  400/1000 loss_train: 0.00272252 loss_val: 0.00272252\n",
      "epoch:  500/1000 loss_train: 0.00197434 loss_val: 0.00197434\n",
      "epoch:  600/1000 loss_train: 0.00147971 loss_val: 0.00147971\n",
      "epoch:  700/1000 loss_train: 0.00113736 loss_val: 0.00113736\n",
      "epoch:  800/1000 loss_train: 0.00089205 loss_val: 0.00089205\n",
      "epoch:  900/1000 loss_train: 0.00071137 loss_val: 0.00071137\n",
      "epoch: 1000/1000 loss_train: 0.00057526 loss_val: 0.00057526\n",
      "[[9.74917534e-01-0.04223451j]\n",
      " [3.21270345e-02-0.0252957j ]\n",
      " [9.87579738e-01+1.00119107j]\n",
      " [5.55106371e-05+1.01901337j]]\n",
      "[[1.+0.j]\n",
      " [0.+0.j]\n",
      " [1.+1.j]\n",
      " [0.+1.j]]\n",
      "Accuracy: 96.96%\n"
     ]
    }
   ],
   "source": [
    "x = np.array([[-1.0-1.0j], [-1.0+1.0j], [1.0-1.0j], [1.0+1.0j]])\n",
    "y = np.array([1, 0, 1+1.0j, 1.0j]).reshape(-1, 1)\n",
    "\n",
    "nn = mynn.CVFFNN(cost_func=costFunc.mse,  learning_rate = 1e-2)\n",
    "nn.addLayer(ishape=x.shape[1], neurons=2, \n",
    "            weights_initializer=initFunc.random_normal,\n",
    "            bias_initializer=initFunc.random_normal, \n",
    "            activation=actFunc.tanh)\n",
    "nn.addLayer(neurons=y.shape[1], \n",
    "            weights_initializer=initFunc.random_normal,\n",
    "            bias_initializer=initFunc.random_normal, \n",
    "            activation=actFunc.tanh)\n",
    "\n",
    "\n",
    "nn.fit(x, y, epochs=1000, verbose=100)\n",
    "\n",
    "y_pred = nn.predict(x)\n",
    "print(y_pred)\n",
    "print(y)\n",
    "\n",
    "print('Accuracy: {:.2f}%'.format(utils.accuracy(y, y_pred)))"
   ]
  },
  {
   "cell_type": "code",
   "execution_count": 5,
   "id": "349dcc74",
   "metadata": {},
   "outputs": [
    {
     "name": "stdout",
     "output_type": "stream",
     "text": [
      "[[-1.-1.j]\n",
      " [-1.+1.j]\n",
      " [ 1.-1.j]\n",
      " [ 1.+1.j]]\n",
      "[[1.+0.j]\n",
      " [0.+0.j]\n",
      " [1.+1.j]\n",
      " [0.+1.j]]\n"
     ]
    }
   ],
   "source": [
    "print(x)\n",
    "print(y)"
   ]
  },
  {
   "cell_type": "markdown",
   "id": "01432083",
   "metadata": {},
   "source": [
    "## Dataset Iris"
   ]
  },
  {
   "cell_type": "code",
   "execution_count": null,
   "id": "2c790027",
   "metadata": {},
   "outputs": [],
   "source": [
    "data = load_iris()\n",
    "x, y = data.data[:, 2:], data.target.reshape(-1,1)\n",
    "\n",
    "print(data.feature_names)\n",
    "print(data.target_names)\n",
    "print(x.shape, y.shape)\n",
    "plt.scatter(x[:,0], x[:,1], c=list(np.array(y).ravel()), s=15, cmap=plt.cm.viridis)\n"
   ]
  },
  {
   "cell_type": "code",
   "execution_count": null,
   "id": "75f2509a",
   "metadata": {},
   "outputs": [],
   "source": [
    "input_dim, output_dim = x.shape[1], y.shape[1]\n",
    "\n",
    "nn = mynn.CVFFNN(cost_func=costFunc.mse,  learning_rate = 1e-3)\n",
    "nn.addLayer(ishape=x.shape[1], neurons=20, \n",
    "            weights_initializer=initFunc.random_normal, \n",
    "            bias_initializer=initFunc.random_normal, \n",
    "            activation=actFunc.tanh)\n",
    "\n",
    "nn.addLayer(neurons=y.shape[1], \n",
    "            weights_initializer=initFunc.random_normal, \n",
    "            bias_initializer=initFunc.random_normal, \n",
    "            activation=actFunc.tanh)\n",
    "\n",
    "nn.fit(x, y, epochs=1000, verbose=100)\n",
    "\n",
    "y_pred = nn.predict(x)\n"
   ]
  },
  {
   "cell_type": "code",
   "execution_count": null,
   "id": "5a8c93e7",
   "metadata": {},
   "outputs": [],
   "source": [
    "arr = y_pred.view(float)\n",
    "m = arr % 1. <= .5\n",
    "arr[m] = np.floor(arr[m])\n",
    "arr[~m] = np.ceil(arr[~m])\n",
    "arr = arr.view(complex)\n",
    "\n",
    "print('Accuracy: {:.2f}%'.format(utils.accuracy(y, arr)))"
   ]
  },
  {
   "cell_type": "markdown",
   "id": "e271281b",
   "metadata": {},
   "source": [
    "## CFAP-I: Synthetic Complex-valued Function Approximation Problem I"
   ]
  },
  {
   "cell_type": "code",
   "execution_count": null,
   "id": "02b72e50",
   "metadata": {},
   "outputs": [],
   "source": [
    "xt1 =  np.array([  (np.random.randint(-2, 2, 1000) + 1j*np.random.randint(-2, 2, 1000))*0.7])\n",
    "xt2 = np.array([ (np.random.randint(-2, 2, 1000) + 1j*np.random.randint(-2, 2, 1000))*0.7])\n",
    "\n",
    "x = np.append(xt1, xt2, axis = 0).T\n",
    "\n",
    "y = np.array(1/6*(xt1**2 + xt2**2), ndmin=2, dtype='complex128').T\n",
    "\n",
    "xt1 =  np.array([  (np.random.randint(-2, 2, 200) + 1j*np.random.randint(-2, 2, 200))*0.7])\n",
    "xt2 = np.array([ (np.random.randint(-2, 2, 200) + 1j*np.random.randint(-2, 2, 200))*0.7])\n",
    "\n",
    "x_test = np.append(xt1, xt2, axis = 0).T\n",
    "\n",
    "y_test = np.array(1/6*(xt1**2 + xt2**2), ndmin=2, dtype='complex128').T"
   ]
  },
  {
   "cell_type": "code",
   "execution_count": null,
   "id": "333cbcac",
   "metadata": {},
   "outputs": [],
   "source": [
    "input_dim, output_dim = x.shape[1], y.shape[1]\n",
    "\n",
    "nn = mynn.CVFFNN(cost_func=costFunc.mse,  learning_rate = 1e-3)\n",
    "nn.addLayer(ishape=input_dim, neurons=3, \n",
    "            weights_initializer=initFunc.random_normal, \n",
    "            bias_initializer=initFunc.random_normal, \n",
    "            activation=actFunc.tanh)\n",
    "nn.addLayer(neurons=output_dim, \n",
    "            weights_initializer=initFunc.random_normal, \n",
    "            bias_initializer=initFunc.random_normal, \n",
    "            activation=actFunc.tanh)\n",
    "\n",
    "nn.fit(x, y, epochs=1000, verbose=100)\n",
    "\n",
    "y_pred = nn.predict(x)\n"
   ]
  },
  {
   "cell_type": "code",
   "execution_count": null,
   "id": "560b8120",
   "metadata": {},
   "outputs": [],
   "source": [
    "print('Accuracy: training {:.2f}%'.format(utils.accuracy(y, y_pred)))\n",
    "print('Accuracy: testing {:.2f}%'.format(utils.accuracy(y_test, nn.predict(x_test))))"
   ]
  },
  {
   "cell_type": "markdown",
   "id": "0056dfeb",
   "metadata": {},
   "source": [
    "## Cha and Kassam Channel Mode "
   ]
  },
  {
   "cell_type": "code",
   "execution_count": null,
   "id": "f8fddc48",
   "metadata": {},
   "outputs": [],
   "source": [
    "trainSetIn = []\n",
    "trainSetOut = (np.random.randint(0,2, (1,1204))*2-1)*0.7 + 1j*(np.random.randint(0,2, (1,1204))*2-1)*0.7\n",
    "a1 = -0.7 - 1j*0.7;\n",
    "a2 = -0.7 + 1j*0.7;\n",
    "\n",
    "i=0\n",
    "while i<1204 :\n",
    "    a0 = trainSetOut[0][i]\n",
    "    \n",
    "    aux = (0.34-1j*0.27)*a0 + (0.87+1j*0.43)*a1 + (0.34-1j*0.21)*a2\n",
    "    trainSetIn.append(aux + 0.1*aux**2+ 0.05*aux**3+np.sqrt(0.01)*(np.random.randn()/np.sqrt(2)+(1j*np.random.randn())/np.sqrt(2)))\n",
    "    \n",
    "    a2=a1\n",
    "    a1=a0\n",
    "    i+=1\n",
    "\n",
    "    \n",
    "trainSetOut = trainSetOut.T\n",
    "trainSetOut = trainSetOut[:1204-2]\n",
    "\n",
    "x_test = np.array([trainSetIn[1000:1204-2], trainSetIn[1001:1204-1], trainSetIn[1002:1204]]).T\n",
    "y_test = trainSetOut[1000:1204-2]\n",
    "\n",
    "trainSetIn = np.array([trainSetIn[:1002-2], trainSetIn[1:1002-1], trainSetIn[2:1002]]).T\n",
    "trainSetOut = trainSetOut[:1002-2]\n",
    "\n"
   ]
  },
  {
   "cell_type": "code",
   "execution_count": null,
   "id": "ae2fb6c6",
   "metadata": {},
   "outputs": [],
   "source": [
    "input_dim, output_dim = trainSetIn.shape[1], trainSetOut.shape[1]\n",
    "\n",
    "\n",
    "nn = mynn.CVFFNN(cost_func=costFunc.mse,  learning_rate = 1e-3)\n",
    "nn.addLayer(ishape=trainSetIn.shape[1], neurons=15, \n",
    "            weights_initializer=initFunc.random_normal, \n",
    "            bias_initializer=initFunc.random_normal, \n",
    "            activation=actFunc.tan)\n",
    "nn.addLayer(neurons=trainSetOut.shape[1], \n",
    "            weights_initializer=initFunc.random_normal, \n",
    "            bias_initializer=initFunc.random_normal, \n",
    "            activation=actFunc.tan)\n",
    "\n",
    "nn.fit(trainSetIn, trainSetOut, epochs=1000, verbose=100)\n",
    "\n",
    "y_pred = nn.predict(trainSetIn)\n",
    "\n",
    "y_predTest = nn.predict(x_test)"
   ]
  },
  {
   "cell_type": "code",
   "execution_count": null,
   "id": "8de54a2d",
   "metadata": {},
   "outputs": [],
   "source": [
    "#print('Accuracy: training {:.2f}% - testing {:.2f}%'.format((100*(1-np.mean(np.abs((trainSetOut-y_pred))))), (100*(1-np.mean(np.abs((y_test-y_predTest)))))))\n",
    "print('Accuracy: training {:.2f}%'.format(utils.accuracy(trainSetOut, y_pred)))\n",
    "print('Accuracy: testing {:.2f}%'.format(utils.accuracy(y_test, nn.predict(x_test))))"
   ]
  },
  {
   "cell_type": "markdown",
   "id": "608d4a84",
   "metadata": {},
   "source": [
    "## CFAP-II: Synthetic Complex-valued Function Approximation Problem II"
   ]
  },
  {
   "cell_type": "code",
   "execution_count": null,
   "id": "9d16e24b",
   "metadata": {},
   "outputs": [],
   "source": [
    "x1 = np.cos(np.random.uniform(0,2*np.pi,3600)) + 1j*(np.random.uniform(0,2*np.pi,3600))\n",
    "x2 = np.cos(np.random.uniform(0,2*np.pi,3600)) + 1j*(np.random.uniform(0,2*np.pi,3600))\n",
    "x3 = np.cos(np.random.uniform(0,2*np.pi,3600)) + 1j*(np.random.uniform(0,2*np.pi,3600))\n",
    "x4 = np.cos(np.random.uniform(0,2*np.pi,3600)) + 1j*(np.random.uniform(0,2*np.pi,3600))\n",
    "\n",
    "x1 = x1/np.abs(x1)\n",
    "x2 = x2/np.abs(x2)\n",
    "x3 = x3/np.abs(x3)\n",
    "x4 = x4/np.abs(x4)\n",
    "\n",
    "\n",
    "x = np.array([x1,x2,x3,x4]).T\n",
    "\n",
    "y = np.array((1/1.5)*(x3 + 10*(x1*x4) + (x2**2)/x1), ndmin=2).T\n",
    "y = y/np.abs(y)\n",
    "\n",
    "x_test = x[3000:3600]\n",
    "y_test = y[3000:3600]\n",
    "\n",
    "x = x[:3000]\n",
    "y = y[:3000]\n",
    "\n"
   ]
  },
  {
   "cell_type": "code",
   "execution_count": null,
   "id": "24fd6a39",
   "metadata": {},
   "outputs": [],
   "source": [
    "input_dim, output_dim = x.shape[1], y.shape[1]\n",
    "\n",
    "nn = mynn.CVFFNN(cost_func=costFunc.mse,  learning_rate = 1e-2)\n",
    "nn.addLayer(ishape=input_dim, neurons=15, \n",
    "            weights_initializer=initFunc.random_normal, \n",
    "            bias_initializer=initFunc.random_normal, \n",
    "            activation=actFunc.atan)\n",
    "nn.addLayer(neurons=output_dim, \n",
    "            weights_initializer=initFunc.random_normal, \n",
    "            bias_initializer=initFunc.random_normal, \n",
    "            activation=actFunc.atan)\n",
    "\n",
    "nn.fit(x, y, epochs=1000, verbose=100)\n",
    "\n",
    "y_pred = nn.predict(x)\n",
    "\n",
    "#y_predTest = nn.predict(x_test)"
   ]
  },
  {
   "cell_type": "code",
   "execution_count": null,
   "id": "5d4ca457",
   "metadata": {},
   "outputs": [],
   "source": [
    "#print('Accuracy: training {:.2f}% - testing {:.2f}%'.format((100*(1-np.mean(np.abs((y_pred-y))))), (100*(1-np.mean(np.abs((y_test-y_predTest)))))))\n",
    "print('Accuracy: training {:.2f}%'.format(utils.accuracy(y, y_pred)))\n",
    "print('Accuracy: testing {:.2f}%'.format(utils.accuracy(y_test, nn.predict(x_test))))"
   ]
  },
  {
   "cell_type": "code",
   "execution_count": null,
   "id": "87be496c",
   "metadata": {},
   "outputs": [],
   "source": []
  },
  {
   "cell_type": "code",
   "execution_count": null,
   "id": "08d76cf0",
   "metadata": {},
   "outputs": [],
   "source": []
  },
  {
   "cell_type": "code",
   "execution_count": null,
   "id": "847f67ae",
   "metadata": {},
   "outputs": [],
   "source": []
  },
  {
   "cell_type": "code",
   "execution_count": null,
   "id": "44f46a48",
   "metadata": {},
   "outputs": [],
   "source": []
  }
 ],
 "metadata": {
  "kernelspec": {
   "display_name": "Python 3",
   "language": "python",
   "name": "python3"
  },
  "language_info": {
   "codemirror_mode": {
    "name": "ipython",
    "version": 3
   },
   "file_extension": ".py",
   "mimetype": "text/x-python",
   "name": "python",
   "nbconvert_exporter": "python",
   "pygments_lexer": "ipython3",
   "version": "3.9.5"
  }
 },
 "nbformat": 4,
 "nbformat_minor": 5
}
